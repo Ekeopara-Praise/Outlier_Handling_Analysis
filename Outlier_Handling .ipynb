{
 "cells": [
  {
   "cell_type": "markdown",
   "id": "983adebb",
   "metadata": {},
   "source": [
    "## Evaluation of $5$ Outlier Handling Techniques using Skewness as Evaluation Matrics"
   ]
  },
  {
   "cell_type": "markdown",
   "id": "a530f36b",
   "metadata": {},
   "source": [
    "### Outline of Analysis\n",
    "\n",
    "1. Get the Data\n",
    "2. Understand the data\n",
    "3. Identifying Outliers with Interquartile Range (IQR)\n",
    "4. Identifying Outliers with Visualization\n",
    "5. Outlier Treatment\n",
    "6. Display the Skewness for each method\n",
    "7. Conclusion and Recommendation"
   ]
  },
  {
   "cell_type": "markdown",
   "id": "b71ad873",
   "metadata": {},
   "source": [
    "## 1. Get the Data"
   ]
  },
  {
   "cell_type": "code",
   "execution_count": 1,
   "id": "6839c48b",
   "metadata": {},
   "outputs": [],
   "source": [
    "# import libraries\n",
    "import matplotlib.pyplot as plt\n",
    "import seaborn as sns\n",
    "import pandas as pd\n",
    "import numpy as np\n",
    "import warnings"
   ]
  },
  {
   "cell_type": "code",
   "execution_count": 2,
   "id": "84b5b0bc",
   "metadata": {},
   "outputs": [
    {
     "data": {
      "text/html": [
       "<div>\n",
       "<style scoped>\n",
       "    .dataframe tbody tr th:only-of-type {\n",
       "        vertical-align: middle;\n",
       "    }\n",
       "\n",
       "    .dataframe tbody tr th {\n",
       "        vertical-align: top;\n",
       "    }\n",
       "\n",
       "    .dataframe thead th {\n",
       "        text-align: right;\n",
       "    }\n",
       "</style>\n",
       "<table border=\"1\" class=\"dataframe\">\n",
       "  <thead>\n",
       "    <tr style=\"text-align: right;\">\n",
       "      <th></th>\n",
       "      <th>DEPTH</th>\n",
       "      <th>ROP(1 ft)</th>\n",
       "      <th>weight on bit (k-lbs)</th>\n",
       "      <th>Surface Torque (psi)</th>\n",
       "      <th>Rotary Speed (rpm)</th>\n",
       "      <th>Pump Press (psi)</th>\n",
       "      <th>Flow In (gal/min)</th>\n",
       "      <th>MTC</th>\n",
       "      <th>GR</th>\n",
       "      <th>RHOZ</th>\n",
       "      <th>NPHI</th>\n",
       "      <th>SP</th>\n",
       "      <th>Lithology</th>\n",
       "    </tr>\n",
       "  </thead>\n",
       "  <tbody>\n",
       "    <tr>\n",
       "      <th>0</th>\n",
       "      <td>102.0</td>\n",
       "      <td>147.35</td>\n",
       "      <td>0.0</td>\n",
       "      <td>8.74</td>\n",
       "      <td>0.00</td>\n",
       "      <td>139.28</td>\n",
       "      <td>469.14</td>\n",
       "      <td>3.0</td>\n",
       "      <td>33.1662</td>\n",
       "      <td>2.3244</td>\n",
       "      <td>0.5684</td>\n",
       "      <td>75.7639</td>\n",
       "      <td>2</td>\n",
       "    </tr>\n",
       "    <tr>\n",
       "      <th>1</th>\n",
       "      <td>102.0</td>\n",
       "      <td>147.35</td>\n",
       "      <td>0.0</td>\n",
       "      <td>8.74</td>\n",
       "      <td>0.00</td>\n",
       "      <td>139.28</td>\n",
       "      <td>469.14</td>\n",
       "      <td>3.0</td>\n",
       "      <td>34.7645</td>\n",
       "      <td>2.3327</td>\n",
       "      <td>0.5615</td>\n",
       "      <td>75.9375</td>\n",
       "      <td>2</td>\n",
       "    </tr>\n",
       "    <tr>\n",
       "      <th>2</th>\n",
       "      <td>103.0</td>\n",
       "      <td>54.86</td>\n",
       "      <td>0.0</td>\n",
       "      <td>8.82</td>\n",
       "      <td>53.92</td>\n",
       "      <td>383.66</td>\n",
       "      <td>1068.03</td>\n",
       "      <td>3.0</td>\n",
       "      <td>37.5619</td>\n",
       "      <td>2.3339</td>\n",
       "      <td>0.6373</td>\n",
       "      <td>75.9375</td>\n",
       "      <td>2</td>\n",
       "    </tr>\n",
       "    <tr>\n",
       "      <th>3</th>\n",
       "      <td>103.0</td>\n",
       "      <td>54.86</td>\n",
       "      <td>0.0</td>\n",
       "      <td>8.82</td>\n",
       "      <td>53.92</td>\n",
       "      <td>383.66</td>\n",
       "      <td>1068.03</td>\n",
       "      <td>3.0</td>\n",
       "      <td>39.8455</td>\n",
       "      <td>2.3392</td>\n",
       "      <td>0.6641</td>\n",
       "      <td>76.4844</td>\n",
       "      <td>2</td>\n",
       "    </tr>\n",
       "    <tr>\n",
       "      <th>4</th>\n",
       "      <td>104.0</td>\n",
       "      <td>180.29</td>\n",
       "      <td>0.0</td>\n",
       "      <td>8.82</td>\n",
       "      <td>0.00</td>\n",
       "      <td>385.18</td>\n",
       "      <td>1068.02</td>\n",
       "      <td>3.0</td>\n",
       "      <td>40.4448</td>\n",
       "      <td>2.3290</td>\n",
       "      <td>0.7740</td>\n",
       "      <td>76.8750</td>\n",
       "      <td>2</td>\n",
       "    </tr>\n",
       "  </tbody>\n",
       "</table>\n",
       "</div>"
      ],
      "text/plain": [
       "   DEPTH  ROP(1 ft)  weight on bit (k-lbs)  Surface Torque (psi)  \\\n",
       "0  102.0     147.35                    0.0                  8.74   \n",
       "1  102.0     147.35                    0.0                  8.74   \n",
       "2  103.0      54.86                    0.0                  8.82   \n",
       "3  103.0      54.86                    0.0                  8.82   \n",
       "4  104.0     180.29                    0.0                  8.82   \n",
       "\n",
       "   Rotary Speed (rpm)  Pump Press (psi)  Flow In (gal/min)  MTC       GR  \\\n",
       "0                0.00            139.28             469.14  3.0  33.1662   \n",
       "1                0.00            139.28             469.14  3.0  34.7645   \n",
       "2               53.92            383.66            1068.03  3.0  37.5619   \n",
       "3               53.92            383.66            1068.03  3.0  39.8455   \n",
       "4                0.00            385.18            1068.02  3.0  40.4448   \n",
       "\n",
       "     RHOZ    NPHI       SP  Lithology  \n",
       "0  2.3244  0.5684  75.7639          2  \n",
       "1  2.3327  0.5615  75.9375          2  \n",
       "2  2.3339  0.6373  75.9375          2  \n",
       "3  2.3392  0.6641  76.4844          2  \n",
       "4  2.3290  0.7740  76.8750          2  "
      ]
     },
     "execution_count": 2,
     "metadata": {},
     "output_type": "execute_result"
    }
   ],
   "source": [
    "data = pd.read_csv('clean_df.csv')\n",
    "\n",
    "df = data.iloc[:, 1:]\n",
    "\n",
    "df.head()"
   ]
  },
  {
   "cell_type": "markdown",
   "id": "b7923566",
   "metadata": {},
   "source": [
    "## 2. Understand the data"
   ]
  },
  {
   "cell_type": "code",
   "execution_count": 37,
   "id": "c70e118a",
   "metadata": {
    "scrolled": false
   },
   "outputs": [
    {
     "data": {
      "text/html": [
       "<div>\n",
       "<style scoped>\n",
       "    .dataframe tbody tr th:only-of-type {\n",
       "        vertical-align: middle;\n",
       "    }\n",
       "\n",
       "    .dataframe tbody tr th {\n",
       "        vertical-align: top;\n",
       "    }\n",
       "\n",
       "    .dataframe thead th {\n",
       "        text-align: right;\n",
       "    }\n",
       "</style>\n",
       "<table border=\"1\" class=\"dataframe\">\n",
       "  <thead>\n",
       "    <tr style=\"text-align: right;\">\n",
       "      <th></th>\n",
       "      <th>DEPTH</th>\n",
       "      <th>ROP(1 ft)</th>\n",
       "      <th>weight on bit (k-lbs)</th>\n",
       "      <th>Surface Torque (psi)</th>\n",
       "      <th>Rotary Speed (rpm)</th>\n",
       "      <th>Pump Press (psi)</th>\n",
       "      <th>Flow In (gal/min)</th>\n",
       "      <th>MTC</th>\n",
       "      <th>GR</th>\n",
       "      <th>RHOZ</th>\n",
       "      <th>NPHI</th>\n",
       "      <th>SP</th>\n",
       "      <th>Lithology</th>\n",
       "    </tr>\n",
       "  </thead>\n",
       "  <tbody>\n",
       "    <tr>\n",
       "      <th>count</th>\n",
       "      <td>1954.000000</td>\n",
       "      <td>1954.000000</td>\n",
       "      <td>1954.000000</td>\n",
       "      <td>1954.000000</td>\n",
       "      <td>1954.000000</td>\n",
       "      <td>1954.000000</td>\n",
       "      <td>1954.000000</td>\n",
       "      <td>1954.000000</td>\n",
       "      <td>1954.000000</td>\n",
       "      <td>1954.000000</td>\n",
       "      <td>1954.000000</td>\n",
       "      <td>1954.000000</td>\n",
       "      <td>1954.000000</td>\n",
       "    </tr>\n",
       "    <tr>\n",
       "      <th>mean</th>\n",
       "      <td>3606.634596</td>\n",
       "      <td>45.283419</td>\n",
       "      <td>22.264289</td>\n",
       "      <td>125.370890</td>\n",
       "      <td>57.196377</td>\n",
       "      <td>1194.738465</td>\n",
       "      <td>719.853726</td>\n",
       "      <td>2.923603</td>\n",
       "      <td>137.279440</td>\n",
       "      <td>2.517993</td>\n",
       "      <td>0.146828</td>\n",
       "      <td>44.309351</td>\n",
       "      <td>1.059365</td>\n",
       "    </tr>\n",
       "    <tr>\n",
       "      <th>std</th>\n",
       "      <td>2299.664691</td>\n",
       "      <td>61.581119</td>\n",
       "      <td>9.543035</td>\n",
       "      <td>58.195908</td>\n",
       "      <td>24.645971</td>\n",
       "      <td>533.737692</td>\n",
       "      <td>155.133704</td>\n",
       "      <td>0.444269</td>\n",
       "      <td>66.191093</td>\n",
       "      <td>0.253907</td>\n",
       "      <td>0.158874</td>\n",
       "      <td>62.421243</td>\n",
       "      <td>0.751552</td>\n",
       "    </tr>\n",
       "    <tr>\n",
       "      <th>min</th>\n",
       "      <td>102.000000</td>\n",
       "      <td>0.910000</td>\n",
       "      <td>0.000000</td>\n",
       "      <td>4.510000</td>\n",
       "      <td>0.000000</td>\n",
       "      <td>139.280000</td>\n",
       "      <td>0.000000</td>\n",
       "      <td>2.130000</td>\n",
       "      <td>25.174400</td>\n",
       "      <td>1.834300</td>\n",
       "      <td>0.000900</td>\n",
       "      <td>-101.015600</td>\n",
       "      <td>0.000000</td>\n",
       "    </tr>\n",
       "    <tr>\n",
       "      <th>25%</th>\n",
       "      <td>1505.000000</td>\n",
       "      <td>11.930000</td>\n",
       "      <td>15.550000</td>\n",
       "      <td>112.600000</td>\n",
       "      <td>39.000000</td>\n",
       "      <td>604.780000</td>\n",
       "      <td>621.120000</td>\n",
       "      <td>2.510000</td>\n",
       "      <td>80.296800</td>\n",
       "      <td>2.397975</td>\n",
       "      <td>0.013000</td>\n",
       "      <td>14.095975</td>\n",
       "      <td>0.000000</td>\n",
       "    </tr>\n",
       "    <tr>\n",
       "      <th>50%</th>\n",
       "      <td>3510.000000</td>\n",
       "      <td>18.210000</td>\n",
       "      <td>23.390000</td>\n",
       "      <td>138.020000</td>\n",
       "      <td>53.220000</td>\n",
       "      <td>1374.220000</td>\n",
       "      <td>703.660000</td>\n",
       "      <td>3.000000</td>\n",
       "      <td>143.146850</td>\n",
       "      <td>2.559450</td>\n",
       "      <td>0.093650</td>\n",
       "      <td>53.750000</td>\n",
       "      <td>1.000000</td>\n",
       "    </tr>\n",
       "    <tr>\n",
       "      <th>75%</th>\n",
       "      <td>5605.000000</td>\n",
       "      <td>54.030000</td>\n",
       "      <td>30.130000</td>\n",
       "      <td>156.360000</td>\n",
       "      <td>78.810000</td>\n",
       "      <td>1665.150000</td>\n",
       "      <td>842.500000</td>\n",
       "      <td>3.250000</td>\n",
       "      <td>176.924850</td>\n",
       "      <td>2.606400</td>\n",
       "      <td>0.253475</td>\n",
       "      <td>73.750000</td>\n",
       "      <td>2.000000</td>\n",
       "    </tr>\n",
       "    <tr>\n",
       "      <th>max</th>\n",
       "      <td>7537.000000</td>\n",
       "      <td>694.860000</td>\n",
       "      <td>38.580000</td>\n",
       "      <td>271.540000</td>\n",
       "      <td>135.900000</td>\n",
       "      <td>2120.880000</td>\n",
       "      <td>1068.030000</td>\n",
       "      <td>3.970000</td>\n",
       "      <td>438.914600</td>\n",
       "      <td>3.856600</td>\n",
       "      <td>0.801800</td>\n",
       "      <td>172.656300</td>\n",
       "      <td>2.000000</td>\n",
       "    </tr>\n",
       "  </tbody>\n",
       "</table>\n",
       "</div>"
      ],
      "text/plain": [
       "             DEPTH    ROP(1 ft)  weight on bit (k-lbs)  Surface Torque (psi)  \\\n",
       "count  1954.000000  1954.000000            1954.000000           1954.000000   \n",
       "mean   3606.634596    45.283419              22.264289            125.370890   \n",
       "std    2299.664691    61.581119               9.543035             58.195908   \n",
       "min     102.000000     0.910000               0.000000              4.510000   \n",
       "25%    1505.000000    11.930000              15.550000            112.600000   \n",
       "50%    3510.000000    18.210000              23.390000            138.020000   \n",
       "75%    5605.000000    54.030000              30.130000            156.360000   \n",
       "max    7537.000000   694.860000              38.580000            271.540000   \n",
       "\n",
       "       Rotary Speed (rpm)  Pump Press (psi)  Flow In (gal/min)          MTC  \\\n",
       "count         1954.000000       1954.000000        1954.000000  1954.000000   \n",
       "mean            57.196377       1194.738465         719.853726     2.923603   \n",
       "std             24.645971        533.737692         155.133704     0.444269   \n",
       "min              0.000000        139.280000           0.000000     2.130000   \n",
       "25%             39.000000        604.780000         621.120000     2.510000   \n",
       "50%             53.220000       1374.220000         703.660000     3.000000   \n",
       "75%             78.810000       1665.150000         842.500000     3.250000   \n",
       "max            135.900000       2120.880000        1068.030000     3.970000   \n",
       "\n",
       "                GR         RHOZ         NPHI           SP    Lithology  \n",
       "count  1954.000000  1954.000000  1954.000000  1954.000000  1954.000000  \n",
       "mean    137.279440     2.517993     0.146828    44.309351     1.059365  \n",
       "std      66.191093     0.253907     0.158874    62.421243     0.751552  \n",
       "min      25.174400     1.834300     0.000900  -101.015600     0.000000  \n",
       "25%      80.296800     2.397975     0.013000    14.095975     0.000000  \n",
       "50%     143.146850     2.559450     0.093650    53.750000     1.000000  \n",
       "75%     176.924850     2.606400     0.253475    73.750000     2.000000  \n",
       "max     438.914600     3.856600     0.801800   172.656300     2.000000  "
      ]
     },
     "execution_count": 37,
     "metadata": {},
     "output_type": "execute_result"
    }
   ],
   "source": [
    "df.describe()"
   ]
  },
  {
   "cell_type": "code",
   "execution_count": 38,
   "id": "2d83f9ea",
   "metadata": {},
   "outputs": [
    {
     "data": {
      "text/plain": [
       "(1954, 13)"
      ]
     },
     "execution_count": 38,
     "metadata": {},
     "output_type": "execute_result"
    }
   ],
   "source": [
    "df.shape"
   ]
  },
  {
   "cell_type": "code",
   "execution_count": 39,
   "id": "825fc2a3",
   "metadata": {},
   "outputs": [
    {
     "name": "stdout",
     "output_type": "stream",
     "text": [
      "<class 'pandas.core.frame.DataFrame'>\n",
      "RangeIndex: 1954 entries, 0 to 1953\n",
      "Data columns (total 13 columns):\n",
      " #   Column                 Non-Null Count  Dtype  \n",
      "---  ------                 --------------  -----  \n",
      " 0   DEPTH                  1954 non-null   float64\n",
      " 1   ROP(1 ft)              1954 non-null   float64\n",
      " 2   weight on bit (k-lbs)  1954 non-null   float64\n",
      " 3   Surface Torque (psi)   1954 non-null   float64\n",
      " 4   Rotary Speed (rpm)     1954 non-null   float64\n",
      " 5   Pump Press (psi)       1954 non-null   float64\n",
      " 6   Flow In (gal/min)      1954 non-null   float64\n",
      " 7   MTC                    1954 non-null   float64\n",
      " 8   GR                     1954 non-null   float64\n",
      " 9   RHOZ                   1954 non-null   float64\n",
      " 10  NPHI                   1954 non-null   float64\n",
      " 11  SP                     1954 non-null   float64\n",
      " 12  Lithology              1954 non-null   int64  \n",
      "dtypes: float64(12), int64(1)\n",
      "memory usage: 198.6 KB\n"
     ]
    }
   ],
   "source": [
    "df.info()"
   ]
  },
  {
   "cell_type": "markdown",
   "id": "206ea0fc",
   "metadata": {},
   "source": [
    "## 3. Identifying Outliers with Interquartile Range (IQR)"
   ]
  },
  {
   "cell_type": "code",
   "execution_count": 3,
   "id": "b43da86c",
   "metadata": {},
   "outputs": [
    {
     "data": {
      "text/html": [
       "<div>\n",
       "<style scoped>\n",
       "    .dataframe tbody tr th:only-of-type {\n",
       "        vertical-align: middle;\n",
       "    }\n",
       "\n",
       "    .dataframe tbody tr th {\n",
       "        vertical-align: top;\n",
       "    }\n",
       "\n",
       "    .dataframe thead th {\n",
       "        text-align: right;\n",
       "    }\n",
       "</style>\n",
       "<table border=\"1\" class=\"dataframe\">\n",
       "  <thead>\n",
       "    <tr style=\"text-align: right;\">\n",
       "      <th></th>\n",
       "      <th>DEPTH</th>\n",
       "      <th>ROP(1 ft)</th>\n",
       "      <th>weight on bit (k-lbs)</th>\n",
       "      <th>Surface Torque (psi)</th>\n",
       "      <th>Rotary Speed (rpm)</th>\n",
       "      <th>Pump Press (psi)</th>\n",
       "      <th>Flow In (gal/min)</th>\n",
       "      <th>MTC</th>\n",
       "      <th>GR</th>\n",
       "      <th>RHOZ</th>\n",
       "      <th>NPHI</th>\n",
       "      <th>SP</th>\n",
       "      <th>Lithology</th>\n",
       "    </tr>\n",
       "  </thead>\n",
       "  <tbody>\n",
       "    <tr>\n",
       "      <th>count</th>\n",
       "      <td>1954.000000</td>\n",
       "      <td>1954.000000</td>\n",
       "      <td>1954.000000</td>\n",
       "      <td>1954.000000</td>\n",
       "      <td>1954.000000</td>\n",
       "      <td>1954.000000</td>\n",
       "      <td>1954.000000</td>\n",
       "      <td>1954.000000</td>\n",
       "      <td>1954.000000</td>\n",
       "      <td>1954.000000</td>\n",
       "      <td>1954.000000</td>\n",
       "      <td>1954.000000</td>\n",
       "      <td>1954.000000</td>\n",
       "    </tr>\n",
       "    <tr>\n",
       "      <th>mean</th>\n",
       "      <td>3606.634596</td>\n",
       "      <td>45.283419</td>\n",
       "      <td>22.264289</td>\n",
       "      <td>125.370890</td>\n",
       "      <td>57.196377</td>\n",
       "      <td>1194.738465</td>\n",
       "      <td>719.853726</td>\n",
       "      <td>2.923603</td>\n",
       "      <td>137.279440</td>\n",
       "      <td>2.517993</td>\n",
       "      <td>0.146828</td>\n",
       "      <td>44.309351</td>\n",
       "      <td>1.059365</td>\n",
       "    </tr>\n",
       "    <tr>\n",
       "      <th>std</th>\n",
       "      <td>2299.664691</td>\n",
       "      <td>61.581119</td>\n",
       "      <td>9.543035</td>\n",
       "      <td>58.195908</td>\n",
       "      <td>24.645971</td>\n",
       "      <td>533.737692</td>\n",
       "      <td>155.133704</td>\n",
       "      <td>0.444269</td>\n",
       "      <td>66.191093</td>\n",
       "      <td>0.253907</td>\n",
       "      <td>0.158874</td>\n",
       "      <td>62.421243</td>\n",
       "      <td>0.751552</td>\n",
       "    </tr>\n",
       "    <tr>\n",
       "      <th>min</th>\n",
       "      <td>102.000000</td>\n",
       "      <td>0.910000</td>\n",
       "      <td>0.000000</td>\n",
       "      <td>4.510000</td>\n",
       "      <td>0.000000</td>\n",
       "      <td>139.280000</td>\n",
       "      <td>0.000000</td>\n",
       "      <td>2.130000</td>\n",
       "      <td>25.174400</td>\n",
       "      <td>1.834300</td>\n",
       "      <td>0.000900</td>\n",
       "      <td>-101.015600</td>\n",
       "      <td>0.000000</td>\n",
       "    </tr>\n",
       "    <tr>\n",
       "      <th>25%</th>\n",
       "      <td>1505.000000</td>\n",
       "      <td>11.930000</td>\n",
       "      <td>15.550000</td>\n",
       "      <td>112.600000</td>\n",
       "      <td>39.000000</td>\n",
       "      <td>604.780000</td>\n",
       "      <td>621.120000</td>\n",
       "      <td>2.510000</td>\n",
       "      <td>80.296800</td>\n",
       "      <td>2.397975</td>\n",
       "      <td>0.013000</td>\n",
       "      <td>14.095975</td>\n",
       "      <td>0.000000</td>\n",
       "    </tr>\n",
       "    <tr>\n",
       "      <th>50%</th>\n",
       "      <td>3510.000000</td>\n",
       "      <td>18.210000</td>\n",
       "      <td>23.390000</td>\n",
       "      <td>138.020000</td>\n",
       "      <td>53.220000</td>\n",
       "      <td>1374.220000</td>\n",
       "      <td>703.660000</td>\n",
       "      <td>3.000000</td>\n",
       "      <td>143.146850</td>\n",
       "      <td>2.559450</td>\n",
       "      <td>0.093650</td>\n",
       "      <td>53.750000</td>\n",
       "      <td>1.000000</td>\n",
       "    </tr>\n",
       "    <tr>\n",
       "      <th>75%</th>\n",
       "      <td>5605.000000</td>\n",
       "      <td>54.030000</td>\n",
       "      <td>30.130000</td>\n",
       "      <td>156.360000</td>\n",
       "      <td>78.810000</td>\n",
       "      <td>1665.150000</td>\n",
       "      <td>842.500000</td>\n",
       "      <td>3.250000</td>\n",
       "      <td>176.924850</td>\n",
       "      <td>2.606400</td>\n",
       "      <td>0.253475</td>\n",
       "      <td>73.750000</td>\n",
       "      <td>2.000000</td>\n",
       "    </tr>\n",
       "    <tr>\n",
       "      <th>max</th>\n",
       "      <td>7537.000000</td>\n",
       "      <td>694.860000</td>\n",
       "      <td>38.580000</td>\n",
       "      <td>271.540000</td>\n",
       "      <td>135.900000</td>\n",
       "      <td>2120.880000</td>\n",
       "      <td>1068.030000</td>\n",
       "      <td>3.970000</td>\n",
       "      <td>438.914600</td>\n",
       "      <td>3.856600</td>\n",
       "      <td>0.801800</td>\n",
       "      <td>172.656300</td>\n",
       "      <td>2.000000</td>\n",
       "    </tr>\n",
       "  </tbody>\n",
       "</table>\n",
       "</div>"
      ],
      "text/plain": [
       "             DEPTH    ROP(1 ft)  weight on bit (k-lbs)  Surface Torque (psi)  \\\n",
       "count  1954.000000  1954.000000            1954.000000           1954.000000   \n",
       "mean   3606.634596    45.283419              22.264289            125.370890   \n",
       "std    2299.664691    61.581119               9.543035             58.195908   \n",
       "min     102.000000     0.910000               0.000000              4.510000   \n",
       "25%    1505.000000    11.930000              15.550000            112.600000   \n",
       "50%    3510.000000    18.210000              23.390000            138.020000   \n",
       "75%    5605.000000    54.030000              30.130000            156.360000   \n",
       "max    7537.000000   694.860000              38.580000            271.540000   \n",
       "\n",
       "       Rotary Speed (rpm)  Pump Press (psi)  Flow In (gal/min)          MTC  \\\n",
       "count         1954.000000       1954.000000        1954.000000  1954.000000   \n",
       "mean            57.196377       1194.738465         719.853726     2.923603   \n",
       "std             24.645971        533.737692         155.133704     0.444269   \n",
       "min              0.000000        139.280000           0.000000     2.130000   \n",
       "25%             39.000000        604.780000         621.120000     2.510000   \n",
       "50%             53.220000       1374.220000         703.660000     3.000000   \n",
       "75%             78.810000       1665.150000         842.500000     3.250000   \n",
       "max            135.900000       2120.880000        1068.030000     3.970000   \n",
       "\n",
       "                GR         RHOZ         NPHI           SP    Lithology  \n",
       "count  1954.000000  1954.000000  1954.000000  1954.000000  1954.000000  \n",
       "mean    137.279440     2.517993     0.146828    44.309351     1.059365  \n",
       "std      66.191093     0.253907     0.158874    62.421243     0.751552  \n",
       "min      25.174400     1.834300     0.000900  -101.015600     0.000000  \n",
       "25%      80.296800     2.397975     0.013000    14.095975     0.000000  \n",
       "50%     143.146850     2.559450     0.093650    53.750000     1.000000  \n",
       "75%     176.924850     2.606400     0.253475    73.750000     2.000000  \n",
       "max     438.914600     3.856600     0.801800   172.656300     2.000000  "
      ]
     },
     "execution_count": 3,
     "metadata": {},
     "output_type": "execute_result"
    }
   ],
   "source": [
    "df.describe()"
   ]
  },
  {
   "cell_type": "code",
   "execution_count": 4,
   "id": "ce9e2e29",
   "metadata": {
    "scrolled": true
   },
   "outputs": [
    {
     "name": "stdout",
     "output_type": "stream",
     "text": [
      "DEPTH                    4100.000000\n",
      "ROP(1 ft)                  42.100000\n",
      "weight on bit (k-lbs)      14.580000\n",
      "Surface Torque (psi)       43.760000\n",
      "Rotary Speed (rpm)         39.810000\n",
      "Pump Press (psi)         1060.370000\n",
      "Flow In (gal/min)         221.380000\n",
      "MTC                         0.740000\n",
      "GR                         96.628050\n",
      "RHOZ                        0.208425\n",
      "NPHI                        0.240475\n",
      "SP                         59.654025\n",
      "Lithology                   2.000000\n",
      "dtype: float64\n"
     ]
    }
   ],
   "source": [
    "Q1 = df.quantile(0.25)\n",
    "Q3 = df.quantile(0.75)\n",
    "IQR = Q3 - Q1\n",
    "print(IQR)"
   ]
  },
  {
   "cell_type": "code",
   "execution_count": 5,
   "id": "89aa4b04",
   "metadata": {},
   "outputs": [
    {
     "name": "stdout",
     "output_type": "stream",
     "text": [
      "4.007897810545865\n"
     ]
    }
   ],
   "source": [
    "print(df['ROP(1 ft)'].skew())"
   ]
  },
  {
   "cell_type": "markdown",
   "id": "aa422e42",
   "metadata": {},
   "source": [
    "## 4. Identifying Outliers with Visualization"
   ]
  },
  {
   "cell_type": "markdown",
   "id": "2b1b5419",
   "metadata": {},
   "source": [
    "**Using Boxplot**"
   ]
  },
  {
   "cell_type": "code",
   "execution_count": 33,
   "id": "f184aff1",
   "metadata": {},
   "outputs": [
    {
     "data": {
      "image/png": "[encoded data removed]",
      "text/plain": [
       "<Figure size 1080x720 with 1 Axes>"
      ]
     },
     "metadata": {},
     "output_type": "display_data"
    },
    {
     "data": {
      "text/plain": [
       "<Figure size 2160x1080 with 0 Axes>"
      ]
     },
     "metadata": {},
     "output_type": "display_data"
    }
   ],
   "source": [
    "plt.style.use('ggplot')\n",
    "ax = df.plot.box(figsize=(15, 10))\n",
    "plt.figure(figsize=(30, 15))\n",
    "ax.tick_params(axis='x', labelrotation=45, labelsize=15)"
   ]
  },
  {
   "cell_type": "markdown",
   "id": "fc33e041",
   "metadata": {},
   "source": [
    "**Using  Histogram**"
   ]
  },
  {
   "cell_type": "code",
   "execution_count": 34,
   "id": "0485d4dd",
   "metadata": {},
   "outputs": [
    {
     "data": {
      "text/plain": [
       "array([[<AxesSubplot:title={'center':'DEPTH'}>,\n",
       "        <AxesSubplot:title={'center':'ROP(1 ft)'}>,\n",
       "        <AxesSubplot:title={'center':'weight on bit (k-lbs)'}>,\n",
       "        <AxesSubplot:title={'center':'Surface Torque (psi)'}>],\n",
       "       [<AxesSubplot:title={'center':'Rotary Speed (rpm)'}>,\n",
       "        <AxesSubplot:title={'center':'Pump Press (psi)'}>,\n",
       "        <AxesSubplot:title={'center':'Flow In (gal/min)'}>,\n",
       "        <AxesSubplot:title={'center':'MTC'}>],\n",
       "       [<AxesSubplot:title={'center':'GR'}>,\n",
       "        <AxesSubplot:title={'center':'RHOZ'}>,\n",
       "        <AxesSubplot:title={'center':'NPHI'}>,\n",
       "        <AxesSubplot:title={'center':'SP'}>],\n",
       "       [<AxesSubplot:title={'center':'Lithology'}>, <AxesSubplot:>,\n",
       "        <AxesSubplot:>, <AxesSubplot:>]], dtype=object)"
      ]
     },
     "execution_count": 34,
     "metadata": {},
     "output_type": "execute_result"
    },
    {
     "data": {
      "image/png": "[encoded data removed]",
      "text/plain": [
       "<Figure size 432x288 with 16 Axes>"
      ]
     },
     "metadata": {},
     "output_type": "display_data"
    }
   ],
   "source": [
    "df.hist()"
   ]
  },
  {
   "cell_type": "markdown",
   "id": "182e024b",
   "metadata": {},
   "source": [
    "Hence, we can use the last plot ROP for our study"
   ]
  },
  {
   "cell_type": "markdown",
   "id": "cadda615",
   "metadata": {},
   "source": [
    "## 5. Outlier Treatment"
   ]
  },
  {
   "cell_type": "markdown",
   "id": "e16d90e4",
   "metadata": {},
   "source": [
    "### 1. Quantile-based Flooring and Capping\n",
    "\n",
    "In this technique, we will do the flooring (e.g., the 10th percentile) for the lower values and capping (e.g., the 90th percentile) for the higher values. The lines of code below print the 10th and 90th percentiles of the variable $'ROP(1 ft)'$, respectively. These values will be used for quantile-based flooring and capping."
   ]
  },
  {
   "cell_type": "code",
   "execution_count": 12,
   "id": "74df34c7",
   "metadata": {},
   "outputs": [],
   "source": [
    "df_gb = df.copy()"
   ]
  },
  {
   "cell_type": "code",
   "execution_count": 13,
   "id": "82a50fa0",
   "metadata": {},
   "outputs": [
    {
     "name": "stdout",
     "output_type": "stream",
     "text": [
      "7.62\n",
      "120.51\n"
     ]
    }
   ],
   "source": [
    "q10 = df_gb['ROP(1 ft)'].quantile(0.10)\n",
    "\n",
    "q90 = df_gb['ROP(1 ft)'].quantile(0.90)\n",
    "\n",
    "print(q10)\n",
    "print(q90)"
   ]
  },
  {
   "cell_type": "markdown",
   "id": "7ef9a3d2",
   "metadata": {},
   "source": [
    "Now we will remove the outliers, as shown in the lines of code below. Finally, we calculate the skewness value again, which comes out much better now."
   ]
  },
  {
   "cell_type": "code",
   "execution_count": 14,
   "id": "c78325ba",
   "metadata": {},
   "outputs": [
    {
     "name": "stdout",
     "output_type": "stream",
     "text": [
      "1.2104738197620353\n"
     ]
    }
   ],
   "source": [
    "df_gb['ROP(1 ft)'] = np.where(df_gb['ROP(1 ft)'] <q10, q10, df_gb['ROP(1 ft)'])\n",
    "df_gb['ROP(1 ft)'] = np.where(df_gb['ROP(1 ft)'] >q90, q90, df_gb['ROP(1 ft)'])\n",
    "print(df_gb['ROP(1 ft)'].skew())"
   ]
  },
  {
   "cell_type": "markdown",
   "id": "9c7a48b1",
   "metadata": {},
   "source": [
    "### 2. Trimming\n",
    "\n",
    "In this method, we completely remove data points that are outliers"
   ]
  },
  {
   "cell_type": "code",
   "execution_count": 15,
   "id": "58892064",
   "metadata": {},
   "outputs": [],
   "source": [
    "df_trim = df.copy()"
   ]
  },
  {
   "cell_type": "code",
   "execution_count": 16,
   "id": "ba25ac81",
   "metadata": {},
   "outputs": [
    {
     "data": {
      "text/plain": [
       "count    1946.000000\n",
       "mean       43.604697\n",
       "std        53.103097\n",
       "min         1.180000\n",
       "25%        11.930000\n",
       "50%        18.210000\n",
       "75%        53.190000\n",
       "max       492.980000\n",
       "Name: ROP(1 ft), dtype: float64"
      ]
     },
     "execution_count": 16,
     "metadata": {},
     "output_type": "execute_result"
    }
   ],
   "source": [
    "index = df_trim[(df_trim['ROP(1 ft)'] >= 500)|(df_trim['ROP(1 ft)'] <= 1)].index\n",
    "df_trim.drop(index, inplace=True)\n",
    "df_trim['ROP(1 ft)'].describe()"
   ]
  },
  {
   "cell_type": "code",
   "execution_count": 17,
   "id": "3f476254",
   "metadata": {},
   "outputs": [
    {
     "data": {
      "text/plain": [
       "(1946, 13)"
      ]
     },
     "execution_count": 17,
     "metadata": {},
     "output_type": "execute_result"
    }
   ],
   "source": [
    "df_trim.shape"
   ]
  },
  {
   "cell_type": "code",
   "execution_count": 18,
   "id": "9274435e",
   "metadata": {},
   "outputs": [
    {
     "name": "stdout",
     "output_type": "stream",
     "text": [
      "2.5615794854994824\n"
     ]
    }
   ],
   "source": [
    "print(df_trim['ROP(1 ft)'].skew())"
   ]
  },
  {
   "cell_type": "markdown",
   "id": "45b40b69",
   "metadata": {},
   "source": [
    "### 3. IQR Score\n",
    "This technique uses the IQR scores calculated earlier to remove outliers. The rule of thumb is that anything not in the range of $(Q1 - 1.5 IQR)$ and $(Q3 + 1.5 IQR)$ is an outlier, and can be removed. The first line of code below removes outliers based on the IQR range and stores the result in the data frame 'df_out'. The second line prints the shape of this data, which comes out to be 1319 observations of 13 variables. This shows that for our data, a lot of records get deleted if we use the IQR method."
   ]
  },
  {
   "cell_type": "code",
   "execution_count": 19,
   "id": "81b0b8c0",
   "metadata": {},
   "outputs": [],
   "source": [
    "df_IQR = df.copy() #get a copy of the original data df"
   ]
  },
  {
   "cell_type": "code",
   "execution_count": 21,
   "id": "58260840",
   "metadata": {
    "scrolled": true
   },
   "outputs": [
    {
     "name": "stdout",
     "output_type": "stream",
     "text": [
      "(1319, 13)\n",
      "2.0681860995733916\n"
     ]
    }
   ],
   "source": [
    "df_out = df_IQR[~((df_IQR < (Q1 - 1.5 * IQR)) |(df_IQR > (Q3 + 1.5 * IQR))).any(axis=1)]\n",
    "print(df_out.shape)\n",
    "print(df_out['ROP(1 ft)'].skew())"
   ]
  },
  {
   "cell_type": "markdown",
   "id": "1544e288",
   "metadata": {},
   "source": [
    "As can be observed, both the trimming and the IQR score methods reduces the number of rows"
   ]
  },
  {
   "cell_type": "markdown",
   "id": "8cd83496",
   "metadata": {},
   "source": [
    "### 4. Log Transformation\n",
    "Transformation of the skewed variables may also help correct the distribution of the variables. These could be logarithmic, square root, or square transformations. The most common is the logarithmic transformation, which is done still on the $'ROP(1 ft)'$ variable in the first line of code below. The second and third lines of code print the skewness value before and after the transformation."
   ]
  },
  {
   "cell_type": "code",
   "execution_count": 40,
   "id": "37ddaf31",
   "metadata": {},
   "outputs": [],
   "source": [
    "df_LT = df.copy() # get a copy of the original data df"
   ]
  },
  {
   "cell_type": "code",
   "execution_count": 23,
   "id": "806f672e",
   "metadata": {},
   "outputs": [
    {
     "name": "stdout",
     "output_type": "stream",
     "text": [
      "0.41452958272127305\n"
     ]
    }
   ],
   "source": [
    "df_LT[\"ROP(1 ft)\"] = df_LT[\"ROP(1 ft)\"].map(lambda i: np.log(i) if i > 0 else 0) \n",
    "\n",
    "print(df_LT['ROP(1 ft)'].skew())"
   ]
  },
  {
   "cell_type": "code",
   "execution_count": 24,
   "id": "92d8f567",
   "metadata": {},
   "outputs": [
    {
     "data": {
      "text/plain": [
       "(1954,)"
      ]
     },
     "execution_count": 24,
     "metadata": {},
     "output_type": "execute_result"
    }
   ],
   "source": [
    "df_LT[\"ROP(1 ft)\"].shape"
   ]
  },
  {
   "cell_type": "markdown",
   "id": "de2041b6",
   "metadata": {},
   "source": [
    "### 5. Replacing Outliers with Median Values"
   ]
  },
  {
   "cell_type": "code",
   "execution_count": 25,
   "id": "72eaa579",
   "metadata": {},
   "outputs": [
    {
     "data": {
      "text/plain": [
       "(1954, 13)"
      ]
     },
     "execution_count": 25,
     "metadata": {},
     "output_type": "execute_result"
    }
   ],
   "source": [
    "df_repmean = df.copy() #get a copy of the original data df\n",
    "df_repmean.shape"
   ]
  },
  {
   "cell_type": "code",
   "execution_count": 26,
   "id": "f7ec0465",
   "metadata": {},
   "outputs": [
    {
     "data": {
      "text/plain": [
       "count    1954.000000\n",
       "mean       45.283419\n",
       "std        61.581119\n",
       "min         0.910000\n",
       "25%        11.930000\n",
       "50%        18.210000\n",
       "75%        54.030000\n",
       "max       694.860000\n",
       "Name: ROP(1 ft), dtype: float64"
      ]
     },
     "execution_count": 26,
     "metadata": {},
     "output_type": "execute_result"
    }
   ],
   "source": [
    "df_repmean['ROP(1 ft)'].describe()"
   ]
  },
  {
   "cell_type": "markdown",
   "id": "39799cc7",
   "metadata": {},
   "source": [
    "In this technique, we replace the extreme values with median values. It is advised to not use mean values as they are affected by outliers. The first line of code below prints the 50th percentile value, or the median, which comes out to be 18.21. The second line prints the 95th percentile value, which comes out to be around 147.87499999999986. The third line of code below replaces all those values in the $'ROP(1 ft)'$ variable, which are greater than the 95th percentile, with the median value. Finally, the fourth line prints summary statistics after all these techniques have been employed for outlier treatment."
   ]
  },
  {
   "cell_type": "code",
   "execution_count": 27,
   "id": "0bbcea1d",
   "metadata": {},
   "outputs": [
    {
     "name": "stdout",
     "output_type": "stream",
     "text": [
      "18.21\n",
      "147.87499999999986\n"
     ]
    }
   ],
   "source": [
    "mean_val = df_repmean['ROP(1 ft)'].quantile(0.50)\n",
    "\n",
    "q95_val = df_repmean['ROP(1 ft)'].quantile(0.95)\n",
    "\n",
    "print(mean_val)\n",
    "print(q95_val)"
   ]
  },
  {
   "cell_type": "code",
   "execution_count": 28,
   "id": "8560181e",
   "metadata": {},
   "outputs": [
    {
     "data": {
      "text/plain": [
       "count    1954.000000\n",
       "mean       34.534074\n",
       "std        35.754271\n",
       "min         0.910000\n",
       "25%        11.930000\n",
       "50%        18.210000\n",
       "75%        42.130000\n",
       "max       147.350000\n",
       "Name: ROP(1 ft), dtype: float64"
      ]
     },
     "execution_count": 28,
     "metadata": {},
     "output_type": "execute_result"
    }
   ],
   "source": [
    "df_repmean['ROP(1 ft)'] = np.where(df_repmean['ROP(1 ft)'] > q95_val, mean_val, df_repmean['ROP(1 ft)'])\n",
    "df_repmean['ROP(1 ft)'].describe()"
   ]
  },
  {
   "cell_type": "code",
   "execution_count": 29,
   "id": "b0c87dbc",
   "metadata": {},
   "outputs": [
    {
     "data": {
      "text/plain": [
       "1.609510730311471"
      ]
     },
     "execution_count": 29,
     "metadata": {},
     "output_type": "execute_result"
    }
   ],
   "source": [
    "df_repmean['ROP(1 ft)'].skew()"
   ]
  },
  {
   "cell_type": "markdown",
   "id": "a5df567b",
   "metadata": {},
   "source": [
    "## 6. Display the Skewness for each method\n"
   ]
  },
  {
   "cell_type": "code",
   "execution_count": 30,
   "id": "fb0c6205",
   "metadata": {},
   "outputs": [
    {
     "name": "stdout",
     "output_type": "stream",
     "text": [
      "Without Handling Outlier: 4.007897810545865\n",
      "\n",
      "After Handling Outlier with Flooring and Capping: 1.2104738197620353\n",
      "\n",
      "After Handling Outlier with trimming: 2.5615794854994824\n",
      "\n",
      "After Handling Outlier with IQR Score: 2.0681860995733916\n",
      "\n",
      "After Handling Outlier with Log transform: 0.41452958272127305\n",
      "\n",
      "After Handling Outlier with mean replacement: 1.609510730311471\n"
     ]
    }
   ],
   "source": [
    "print(\"Without Handling Outlier:\", df['ROP(1 ft)'].skew())\n",
    "print(\"\")\n",
    "print(\"After Handling Outlier with Flooring and Capping:\", df_gb['ROP(1 ft)'].skew())\n",
    "print(\"\")\n",
    "print(\"After Handling Outlier with trimming:\", df_trim['ROP(1 ft)'].skew())\n",
    "print(\"\")\n",
    "print(\"After Handling Outlier with IQR Score:\", df_out['ROP(1 ft)'].skew())\n",
    "print(\"\")\n",
    "print(\"After Handling Outlier with Log transform:\", df_LT['ROP(1 ft)'].skew())\n",
    "print(\"\")\n",
    "print(\"After Handling Outlier with mean replacement:\", df_repmean['ROP(1 ft)'].skew())"
   ]
  },
  {
   "cell_type": "code",
   "execution_count": 31,
   "id": "5d893bcc",
   "metadata": {},
   "outputs": [
    {
     "data": {
      "text/html": [
       "<div>\n",
       "<style scoped>\n",
       "    .dataframe tbody tr th:only-of-type {\n",
       "        vertical-align: middle;\n",
       "    }\n",
       "\n",
       "    .dataframe tbody tr th {\n",
       "        vertical-align: top;\n",
       "    }\n",
       "\n",
       "    .dataframe thead th {\n",
       "        text-align: right;\n",
       "    }\n",
       "</style>\n",
       "<table border=\"1\" class=\"dataframe\">\n",
       "  <thead>\n",
       "    <tr style=\"text-align: right;\">\n",
       "      <th></th>\n",
       "      <th>Original_ROP</th>\n",
       "      <th>Floor_Capping_ROP</th>\n",
       "      <th>Trimming_ROP</th>\n",
       "      <th>IQR_score_ROP</th>\n",
       "      <th>Log_transform_ROP</th>\n",
       "      <th>Mean_rep_ROP</th>\n",
       "    </tr>\n",
       "  </thead>\n",
       "  <tbody>\n",
       "    <tr>\n",
       "      <th>0</th>\n",
       "      <td>147.35</td>\n",
       "      <td>120.51</td>\n",
       "      <td>147.35</td>\n",
       "      <td>NaN</td>\n",
       "      <td>4.992811</td>\n",
       "      <td>147.35</td>\n",
       "    </tr>\n",
       "    <tr>\n",
       "      <th>1</th>\n",
       "      <td>147.35</td>\n",
       "      <td>120.51</td>\n",
       "      <td>147.35</td>\n",
       "      <td>NaN</td>\n",
       "      <td>4.992811</td>\n",
       "      <td>147.35</td>\n",
       "    </tr>\n",
       "    <tr>\n",
       "      <th>2</th>\n",
       "      <td>54.86</td>\n",
       "      <td>54.86</td>\n",
       "      <td>54.86</td>\n",
       "      <td>NaN</td>\n",
       "      <td>4.004784</td>\n",
       "      <td>54.86</td>\n",
       "    </tr>\n",
       "    <tr>\n",
       "      <th>3</th>\n",
       "      <td>54.86</td>\n",
       "      <td>54.86</td>\n",
       "      <td>54.86</td>\n",
       "      <td>NaN</td>\n",
       "      <td>4.004784</td>\n",
       "      <td>54.86</td>\n",
       "    </tr>\n",
       "    <tr>\n",
       "      <th>4</th>\n",
       "      <td>180.29</td>\n",
       "      <td>120.51</td>\n",
       "      <td>180.29</td>\n",
       "      <td>NaN</td>\n",
       "      <td>5.194567</td>\n",
       "      <td>18.21</td>\n",
       "    </tr>\n",
       "  </tbody>\n",
       "</table>\n",
       "</div>"
      ],
      "text/plain": [
       "   Original_ROP  Floor_Capping_ROP  Trimming_ROP  IQR_score_ROP  \\\n",
       "0        147.35             120.51        147.35            NaN   \n",
       "1        147.35             120.51        147.35            NaN   \n",
       "2         54.86              54.86         54.86            NaN   \n",
       "3         54.86              54.86         54.86            NaN   \n",
       "4        180.29             120.51        180.29            NaN   \n",
       "\n",
       "   Log_transform_ROP  Mean_rep_ROP  \n",
       "0           4.992811        147.35  \n",
       "1           4.992811        147.35  \n",
       "2           4.004784         54.86  \n",
       "3           4.004784         54.86  \n",
       "4           5.194567         18.21  "
      ]
     },
     "execution_count": 31,
     "metadata": {},
     "output_type": "execute_result"
    }
   ],
   "source": [
    "Non_Outlier_df = pd.DataFrame()  # we create data for the outlier handled techniques\n",
    "\n",
    "Non_Outlier_df['Original_ROP'] = df['ROP(1 ft)']\n",
    "Non_Outlier_df['Floor_Capping_ROP'] = df_gb['ROP(1 ft)']\n",
    "Non_Outlier_df['Trimming_ROP'] = df_trim['ROP(1 ft)']\n",
    "Non_Outlier_df['IQR_score_ROP'] = df_out['ROP(1 ft)']\n",
    "Non_Outlier_df['Log_transform_ROP'] = df_LT['ROP(1 ft)']\n",
    "Non_Outlier_df['Mean_rep_ROP'] = df_repmean['ROP(1 ft)']\n",
    "\n",
    "\n",
    "Non_Outlier_df.head()"
   ]
  },
  {
   "cell_type": "markdown",
   "id": "7d27434b",
   "metadata": {},
   "source": [
    "Lets further visualize our results "
   ]
  },
  {
   "cell_type": "code",
   "execution_count": 32,
   "id": "3cb5a93f",
   "metadata": {},
   "outputs": [
    {
     "data": {
      "image/png": "[encoded data removed]",
      "text/plain": [
       "<Figure size 1080x720 with 1 Axes>"
      ]
     },
     "metadata": {},
     "output_type": "display_data"
    },
    {
     "data": {
      "text/plain": [
       "<Figure size 2160x1080 with 0 Axes>"
      ]
     },
     "metadata": {},
     "output_type": "display_data"
    }
   ],
   "source": [
    "plt.style.use('ggplot')\n",
    "ax = Non_Outlier_df.plot.box(figsize=(15, 10))\n",
    "plt.figure(figsize=(30, 15))\n",
    "ax.tick_params(axis='x', labelrotation=45, labelsize=15)"
   ]
  },
  {
   "cell_type": "markdown",
   "id": "529e2e6e",
   "metadata": {},
   "source": [
    "## 7. Conclusion and Recommendation\n",
    "Hence, using the value of skewness for each method as an evaluation matrics:\n",
    "- we can see that the Log transformation method for handling outlier for the $ROP(1 ft)$ column gave the lest value of skewness and hence happens to be the best. \n",
    "- The Winsorization (flooring and capping method) was the second best\n",
    "\n",
    "## Note\n",
    "It is also useful to note, that having the best skewness value may not guarantee best performance during model development and hence, all techniques should be subjected to model building to obtain the best."
   ]
  }
 ],
 "metadata": {
  "kernelspec": {
   "display_name": "Python 3 (ipykernel)",
   "language": "python",
   "name": "python3"
  },
  "language_info": {
   "codemirror_mode": {
    "name": "ipython",
    "version": 3
   },
   "file_extension": ".py",
   "mimetype": "text/x-python",
   "name": "python",
   "nbconvert_exporter": "python",
   "pygments_lexer": "ipython3",
   "version": "3.9.7"
  }
 },
 "nbformat": 4,
 "nbformat_minor": 5
}
